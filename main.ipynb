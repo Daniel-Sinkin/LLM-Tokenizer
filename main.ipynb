{
 "cells": [
  {
   "cell_type": "code",
   "execution_count": 2,
   "metadata": {},
   "outputs": [],
   "source": [
    "from src.io import get_data_shakespeare_processed"
   ]
  },
  {
   "cell_type": "code",
   "execution_count": 14,
   "metadata": {},
   "outputs": [
    {
     "name": "stdout",
     "output_type": "stream",
     "text": [
      "The play consists of 32777 lines and (approximately) 905502 words.\n"
     ]
    }
   ],
   "source": [
    "rows: list[str] = get_data_shakespeare_processed()\n",
    "num_rows: int = len(rows)\n",
    "num_words: int = sum([len(words) for row in rows for words in row.split(\" \")])\n",
    "print(f\"The play consists of {num_rows} lines and (approximately) {num_words} words.\")"
   ]
  }
 ],
 "metadata": {
  "kernelspec": {
   "display_name": ".venv",
   "language": "python",
   "name": "python3"
  },
  "language_info": {
   "codemirror_mode": {
    "name": "ipython",
    "version": 3
   },
   "file_extension": ".py",
   "mimetype": "text/x-python",
   "name": "python",
   "nbconvert_exporter": "python",
   "pygments_lexer": "ipython3",
   "version": "3.11.6"
  }
 },
 "nbformat": 4,
 "nbformat_minor": 2
}
