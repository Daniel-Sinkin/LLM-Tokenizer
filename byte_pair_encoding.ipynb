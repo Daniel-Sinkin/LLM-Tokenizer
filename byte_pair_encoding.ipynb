{
 "cells": [
  {
   "cell_type": "code",
   "execution_count": 4,
   "metadata": {},
   "outputs": [],
   "source": [
    "from typing import Iterator, Optional"
   ]
  },
  {
   "cell_type": "code",
   "execution_count": 5,
   "metadata": {},
   "outputs": [],
   "source": [
    "def pairs(text: str) -> Iterator[str]:\n",
    "    \"\"\"Returns an interator over the pairs of characters in the text.\"\"\"\n",
    "    assert isinstance(text, str)\n",
    "    for i in range(len(text) - 1):\n",
    "        yield text[i] + text[i + 1]\n",
    "\n",
    "def get_pairs_counter(text: str) -> dict[str, int]:\n",
    "    \"\"\"Get a dictionary of pairs and their number of occurences.\"\"\"\n",
    "    assert isinstance(text, str)\n",
    "    \"\"\"Returns a dictionary of pairs and their number of occurences.\"\"\"\n",
    "    pairs_counter: dict[tuple[str, str], int] = {}\n",
    "    for pair in pairs(text):\n",
    "        pairs_counter[pair] = pairs_counter.get(pair, 0) + 1\n",
    "    return pairs_counter\n",
    "\n",
    "# @RFI: Instead of adding them to the dict we could also track a current maximum\n",
    "#       and then update it if we find a new maximum, so we don't have to \n",
    "#       iterate through the entire hashmap again.\n",
    "def pairs_argmax(text: str) -> tuple[str, int]:\n",
    "    \"\"\"Returns the most common pair and its count in the text.\"\"\"\n",
    "    assert isinstance(text, str)\n",
    "    pairs_counter: dict[str, int] = get_pairs_counter(text)\n",
    "    max_ = max(pairs_counter.values())\n",
    "    # Goes through the items iterator and returns the first one that matches the condition\n",
    "    argmax: str = next(pair for pair, count in pairs_counter.items() if count == max_)\n",
    "\n",
    "    return argmax, max_"
   ]
  },
  {
   "cell_type": "code",
   "execution_count": 6,
   "metadata": {},
   "outputs": [
    {
     "ename": "AttributeError",
     "evalue": "'list' object has no attribute 'add'",
     "output_type": "error",
     "traceback": [
      "\u001b[0;31m---------------------------------------------------------------------------\u001b[0m",
      "\u001b[0;31mAttributeError\u001b[0m                            Traceback (most recent call last)",
      "Cell \u001b[0;32mIn[6], line 14\u001b[0m\n\u001b[1;32m     11\u001b[0m \u001b[38;5;28;01mwhile\u001b[39;00m count \u001b[38;5;241m>\u001b[39m \u001b[38;5;241m1\u001b[39m:\n\u001b[1;32m     12\u001b[0m     text \u001b[38;5;241m=\u001b[39m text\u001b[38;5;241m.\u001b[39mreplace(argmax, replacement_chars[iteration])\n\u001b[0;32m---> 14\u001b[0m     \u001b[43malphabet\u001b[49m\u001b[38;5;241;43m.\u001b[39;49m\u001b[43madd\u001b[49m(replacement_chars[iteration])\n\u001b[1;32m     16\u001b[0m     argmax, count \u001b[38;5;241m=\u001b[39m pairs_argmax(text)\n\u001b[1;32m     17\u001b[0m     iteration \u001b[38;5;241m+\u001b[39m\u001b[38;5;241m=\u001b[39m \u001b[38;5;241m1\u001b[39m\n",
      "\u001b[0;31mAttributeError\u001b[0m: 'list' object has no attribute 'add'"
     ]
    }
   ],
   "source": [
    "text: str = \"aaabdaaabac\"\n",
    "\n",
    "# Gets the unique characters in the text\n",
    "alphabet = list(set(text))\n",
    "# The base alphabet is not derived from anything.\n",
    "alphabet_map: dict[str, Optional[str]] = {char: None for char in alphabet}\n",
    "\n",
    "replacement_chars: tuple[str] = (\"Z\", \"Y\", \"X\", \"W\", \"V\", \"U\")\n",
    "\n",
    "argmax, count = pairs_argmax(text)\n",
    "iteration = 0\n",
    "while count > 1:\n",
    "    text = text.replace(argmax, replacement_chars[iteration])\n",
    "\n",
    "    alphabet += replacement_chars[iteration]\n",
    "\n",
    "    argmax, count = pairs_argmax(text)\n",
    "    iteration += 1\n",
    "\n",
    "# @RFI: Maybe it's worth it to track the idxs of the occurences for the max\n",
    "#       so we can do an index based replacements instead of string based one.\n",
    "argmax, count = pairs_argmax(text)\n",
    "print(argmax)\n",
    "\n",
    "text.replace(argmax, \"Z\")"
   ]
  }
 ],
 "metadata": {
  "kernelspec": {
   "display_name": ".venv",
   "language": "python",
   "name": "python3"
  },
  "language_info": {
   "codemirror_mode": {
    "name": "ipython",
    "version": 3
   },
   "file_extension": ".py",
   "mimetype": "text/x-python",
   "name": "python",
   "nbconvert_exporter": "python",
   "pygments_lexer": "ipython3",
   "version": "3.11.6"
  }
 },
 "nbformat": 4,
 "nbformat_minor": 2
}
